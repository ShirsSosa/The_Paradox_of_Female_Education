{
  "nbformat": 4,
  "nbformat_minor": 0,
  "metadata": {
    "colab": {
      "provenance": [],
      "authorship_tag": "ABX9TyOFzgbAHJYmAUc4m/4CYDUI",
      "include_colab_link": true
    },
    "kernelspec": {
      "name": "python3",
      "display_name": "Python 3"
    },
    "language_info": {
      "name": "python"
    }
  },
  "cells": [
    {
      "cell_type": "markdown",
      "metadata": {
        "id": "view-in-github",
        "colab_type": "text"
      },
      "source": [
        "<a href=\"https://colab.research.google.com/github/ShirsSosa/The_Paradox_of_Female_Education/blob/main/01_Data_Cleaning_and_Preparation_DataSet_S.ipynb\" target=\"_parent\"><img src=\"https://colab.research.google.com/assets/colab-badge.svg\" alt=\"Open In Colab\"/></a>"
      ]
    },
    {
      "cell_type": "code",
      "source": [
        "from google.colab import drive\n",
        "\n",
        "# This line starts the authorization process.\n",
        "drive.mount('/content/drive')"
      ],
      "metadata": {
        "colab": {
          "base_uri": "https://localhost:8080/"
        },
        "id": "7c-QabHlR82H",
        "outputId": "411b30e7-a2b2-4e55-e8cd-00f2e1dec9a8"
      },
      "execution_count": 1,
      "outputs": [
        {
          "output_type": "stream",
          "name": "stdout",
          "text": [
            "Mounted at /content/drive\n"
          ]
        }
      ]
    },
    {
      "cell_type": "code",
      "source": [
        "import pandas as pd\n",
        "file_path = '/content/drive/MyDrive/DV-tech/LAC_Socioeconomic_Data.xlsx'\n",
        "\n",
        "try:\n",
        "    df = pd.read_excel(file_path)\n",
        "    print(\"Success!\")\n",
        "    print(df.head())\n",
        "except FileNotFoundError:\n",
        "    print(f\"Error\")\n",
        "except Exception as e:\n",
        "    print(f\"unexpected error: {e}\")"
      ],
      "metadata": {
        "colab": {
          "base_uri": "https://localhost:8080/"
        },
        "id": "yI3KyGNTaX2R",
        "outputId": "acadab8e-8354-45c4-aa4e-3fea1b76f58d"
      },
      "execution_count": 2,
      "outputs": [
        {
          "output_type": "stream",
          "name": "stdout",
          "text": [
            "Success!\n",
            "     Country  Year  GDP_per_capita  Female_Labor_Participation  \\\n",
            "0  Argentina  1995     9367.182020                   63.780880   \n",
            "1  Argentina  1996     9838.496079                   62.315155   \n",
            "2  Argentina  1997    11268.125610                   63.818546   \n",
            "3  Argentina  1998     9495.256081                   63.110653   \n",
            "4  Argentina  1999    10402.671200                   64.062310   \n",
            "\n",
            "   Male_Labor_Participation  Female_Unemployment  Male_Unemployment  \\\n",
            "0                 80.975081            11.788798          11.727045   \n",
            "1                 81.176480             7.203521           5.367962   \n",
            "2                 80.928034             5.875765           5.680611   \n",
            "3                 80.842842             9.446946           9.343780   \n",
            "4                 80.588643             6.984839           4.498627   \n",
            "\n",
            "   Female_Secondary_Education  Male_Secondary_Education  \\\n",
            "0                   88.495493                 80.171066   \n",
            "1                   46.974693                 44.053247   \n",
            "2                   87.444277                 77.787957   \n",
            "3                   85.466020                 82.878220   \n",
            "4                   57.837666                 55.028321   \n",
            "\n",
            "   Female_Tertiary_Education  Male_Tertiary_Education  Female_Literacy  \\\n",
            "0                  20.616956                16.980456        79.401708   \n",
            "1                  28.318092                19.196692        93.844223   \n",
            "2                  50.419867                44.327592        77.344131   \n",
            "3                  43.126114                36.891893        87.481633   \n",
            "4                  37.134804                34.316320        94.252728   \n",
            "\n",
            "   Male_Literacy  \n",
            "0      78.618677  \n",
            "1      92.642918  \n",
            "2      78.081063  \n",
            "3      87.668474  \n",
            "4      92.550930  \n"
          ]
        }
      ]
    },
    {
      "cell_type": "code",
      "source": [
        "# --- STEP 1: Selecting essential data ---\n",
        "# Select only the essential columns for gender gap analysis\n",
        "essential_columns = [\n",
        "    'Country',\n",
        "    'Year',\n",
        "    'GDP_per_capita',\n",
        "    'Female_Labor_Participation',\n",
        "    'Male_Labor_Participation',\n",
        "    'Female_Tertiary_Education',\n",
        "    'Male_Tertiary_Education'\n",
        "]\n",
        "# Create a new DataFrame that contains ONLY those columns\n",
        "# Use .copy() to prevent issues with original dataset\n",
        "try:\n",
        "    project_df = df[essential_columns].copy()\n",
        "    print(\"Success! Essential columns selected.\")\n",
        "\n",
        "    # Verify the result\n",
        "    print(\"\\nShape of the new DataFrame (rows, columns):\", project_df.shape)\n",
        "    print(f\"Year range: {project_df['Year'].min()} - {project_df['Year'].max()}\")\n",
        "    print(f\"Countries: {project_df['Country'].nunique()}\")\n",
        "    print(\"\\nFirst 2 rows of the new DataFrame:\")\n",
        "    print(project_df.head(2))\n",
        "\n",
        "except KeyError as e:\n",
        "    print(f\"Error! A column was not found: {e}\")\n",
        "    print(\"Check if the column names are correct.\")"
      ],
      "metadata": {
        "colab": {
          "base_uri": "https://localhost:8080/"
        },
        "id": "xlqRy5exKYeZ",
        "outputId": "111c1791-3791-4659-e32c-d985e8081e54"
      },
      "execution_count": 5,
      "outputs": [
        {
          "output_type": "stream",
          "name": "stdout",
          "text": [
            "Success! Essential columns selected.\n",
            "\n",
            "Shape of the new DataFrame (rows, columns): (660, 7)\n",
            "Year range: 1995 - 2024\n",
            "Countries: 22\n",
            "\n",
            "First 2 rows of the new DataFrame:\n",
            "     Country  Year  GDP_per_capita  Female_Labor_Participation  \\\n",
            "0  Argentina  1995     9367.182020                   63.780880   \n",
            "1  Argentina  1996     9838.496079                   62.315155   \n",
            "\n",
            "   Male_Labor_Participation  Female_Tertiary_Education  \\\n",
            "0                 80.975081                  20.616956   \n",
            "1                 81.176480                  28.318092   \n",
            "\n",
            "   Male_Tertiary_Education  \n",
            "0                16.980456  \n",
            "1                19.196692  \n"
          ]
        }
      ]
    },
    {
      "cell_type": "code",
      "source": [
        "# --- STEP 2: Clean & check data ---\n",
        "\n",
        "# Check for null values and zeros in our essential dataset\n",
        "print(\"=== DATA QUALITY ANALYSIS ===\")\n",
        "\n",
        "# 1. Check null values per column\n",
        "print(\"\\n1. NULL VALUES PER COLUMN:\")\n",
        "null_summary = project_df.isnull().sum()\n",
        "print(null_summary)\n",
        "\n",
        "# 2. Check percentage of null values\n",
        "print(\"\\n2. NULL VALUES PERCENTAGE:\")\n",
        "null_percentage = (project_df.isnull().sum() / len(project_df)) * 100\n",
        "print(null_percentage.round(2))\n",
        "\n",
        "# 3. Check zeros in numerical columns (could indicate missing data)\n",
        "print(\"\\n3. ZERO VALUES IN NUMERICAL COLUMNS:\")\n",
        "numerical_cols = ['GDP_per_capita', 'Female_Labor_Participation', 'Male_Labor_Participation',\n",
        "                  'Female_Tertiary_Education', 'Male_Tertiary_Education']\n",
        "zero_counts = (project_df[numerical_cols] == 0).sum()\n",
        "print(zero_counts)\n",
        "\n",
        "# 4. Basic statistics to identify outliers or impossible values\n",
        "print(\"\\n4. BASIC STATISTICS:\")\n",
        "print(project_df[numerical_cols].describe())\n",
        "\n",
        "# 5. Check year range and country count\n",
        "print(f\"\\n5. TEMPORAL COVERAGE:\")\n",
        "print(f\"Years: {project_df['Year'].min()} to {project_df['Year'].max()}\")\n",
        "print(f\"Unique countries: {project_df['Country'].nunique()}\")"
      ],
      "metadata": {
        "colab": {
          "base_uri": "https://localhost:8080/"
        },
        "id": "qXXdNNd6K1cv",
        "outputId": "eda6ed35-f97a-49ba-b2be-2177070a046c"
      },
      "execution_count": 6,
      "outputs": [
        {
          "output_type": "stream",
          "name": "stdout",
          "text": [
            "=== DATA QUALITY ANALYSIS ===\n",
            "\n",
            "1. NULL VALUES PER COLUMN:\n",
            "Country                       0\n",
            "Year                          0\n",
            "GDP_per_capita                0\n",
            "Female_Labor_Participation    0\n",
            "Male_Labor_Participation      0\n",
            "Female_Tertiary_Education     0\n",
            "Male_Tertiary_Education       0\n",
            "dtype: int64\n",
            "\n",
            "2. NULL VALUES PERCENTAGE:\n",
            "Country                       0.0\n",
            "Year                          0.0\n",
            "GDP_per_capita                0.0\n",
            "Female_Labor_Participation    0.0\n",
            "Male_Labor_Participation      0.0\n",
            "Female_Tertiary_Education     0.0\n",
            "Male_Tertiary_Education       0.0\n",
            "dtype: float64\n",
            "\n",
            "3. ZERO VALUES IN NUMERICAL COLUMNS:\n",
            "GDP_per_capita                0\n",
            "Female_Labor_Participation    0\n",
            "Male_Labor_Participation      0\n",
            "Female_Tertiary_Education     0\n",
            "Male_Tertiary_Education       0\n",
            "dtype: int64\n",
            "\n",
            "4. BASIC STATISTICS:\n",
            "       GDP_per_capita  Female_Labor_Participation  Male_Labor_Participation  \\\n",
            "count      660.000000                  660.000000                660.000000   \n",
            "mean     18429.817137                   53.348625                 68.850284   \n",
            "std      16965.255081                    9.035663                  9.450690   \n",
            "min        784.269687                   36.824229                 50.000000   \n",
            "25%       8890.678714                   46.718796                 62.976557   \n",
            "50%      14186.098650                   54.305174                 67.864214   \n",
            "75%      21656.449282                   61.508050                 77.029688   \n",
            "max     148549.536098                   65.639868                 84.252957   \n",
            "\n",
            "       Female_Tertiary_Education  Male_Tertiary_Education  \n",
            "count                 660.000000               660.000000  \n",
            "mean                   34.374660                24.365594  \n",
            "std                    14.231739                15.204704  \n",
            "min                    10.099607                -8.860751  \n",
            "25%                    22.101964                12.514322  \n",
            "50%                    34.250527                24.109809  \n",
            "75%                    46.492933                36.839493  \n",
            "max                    59.977885                57.403421  \n",
            "\n",
            "5. TEMPORAL COVERAGE:\n",
            "Years: 1995 to 2024\n",
            "Unique countries: 22\n"
          ]
        }
      ]
    },
    {
      "cell_type": "code",
      "source": [
        "# --- STEP 3: Check data types value ---\n",
        "\n",
        "\n",
        "# Check data types of each column\n",
        "print(\"=== DATA TYPES VERIFICATION ===\")\n",
        "print(project_df.dtypes)\n",
        "\n",
        "# Check unique values in Country to ensure they're strings\n",
        "print(\"\\n=== COUNTRY DATA TYPE ===\")\n",
        "print(f\"Country dtype: {project_df['Country'].dtype}\")\n",
        "print(f\"Sample countries: {project_df['Country'].unique()[:10]}\")  # First 10 unique countries\n",
        "\n",
        "# Check if Year is integer\n",
        "print(f\"\\n=== YEAR DATA TYPE ===\")\n",
        "print(f\"Year dtype: {project_df['Year'].dtype}\")\n",
        "print(f\"Year sample values: {sorted(project_df['Year'].unique())[:5]}\")  # First 5 years\n",
        "\n",
        "# Verify numerical columns are actually numerical\n",
        "print(f\"\\n=== NUMERICAL COLUMNS VERIFICATION ===\")\n",
        "numerical_cols = ['GDP_per_capita', 'Female_Labor_Participation', 'Male_Labor_Participation',\n",
        "                  'Female_Tertiary_Education', 'Male_Tertiary_Education']\n",
        "for col in numerical_cols:\n",
        "    print(f\"{col}: {project_df[col].dtype}\")"
      ],
      "metadata": {
        "colab": {
          "base_uri": "https://localhost:8080/"
        },
        "id": "sI1IX-44LWfc",
        "outputId": "f394feb6-da56-4477-eae2-d76329a98e39"
      },
      "execution_count": 7,
      "outputs": [
        {
          "output_type": "stream",
          "name": "stdout",
          "text": [
            "=== DATA TYPES VERIFICATION ===\n",
            "Country                        object\n",
            "Year                            int64\n",
            "GDP_per_capita                float64\n",
            "Female_Labor_Participation    float64\n",
            "Male_Labor_Participation      float64\n",
            "Female_Tertiary_Education     float64\n",
            "Male_Tertiary_Education       float64\n",
            "dtype: object\n",
            "\n",
            "=== COUNTRY DATA TYPE ===\n",
            "Country dtype: object\n",
            "Sample countries: ['Argentina' 'Bolivia' 'Brazil' 'Chile' 'Colombia' 'Costa Rica' 'Cuba'\n",
            " 'Dominican Republic' 'Ecuador' 'El Salvador']\n",
            "\n",
            "=== YEAR DATA TYPE ===\n",
            "Year dtype: int64\n",
            "Year sample values: [np.int64(1995), np.int64(1996), np.int64(1997), np.int64(1998), np.int64(1999)]\n",
            "\n",
            "=== NUMERICAL COLUMNS VERIFICATION ===\n",
            "GDP_per_capita: float64\n",
            "Female_Labor_Participation: float64\n",
            "Male_Labor_Participation: float64\n",
            "Female_Tertiary_Education: float64\n",
            "Male_Tertiary_Education: float64\n"
          ]
        }
      ]
    },
    {
      "cell_type": "code",
      "source": [
        "# --- STEP 4: Calculiting and add new variables ---\n",
        "\n",
        "# Calculate gender gaps for education and labor participation\n",
        "print(\"=== CALCULATING GENDER GAPS ===\")\n",
        "\n",
        "# 1. Calculate education gap (Female - Male)\n",
        "project_df['education_gap'] = project_df['Female_Tertiary_Education'] - project_df['Male_Tertiary_Education']\n",
        "\n",
        "# 2. Calculate labor participation gap (Female - Male)\n",
        "project_df['labor_participation_gap'] = project_df['Female_Labor_Participation'] - project_df['Male_Labor_Participation']\n",
        "\n",
        "# 3. Display summary statistics of the gaps\n",
        "print(\"EDUCATION GAP SUMMARY (Female - Male):\")\n",
        "print(f\"Positive values = Women ahead | Negative values = Men ahead\")\n",
        "print(project_df['education_gap'].describe())\n",
        "\n",
        "print(\"\\nLABOR PARTICIPATION GAP SUMMARY (Female - Male):\")\n",
        "print(f\"Positive values = Women ahead | Negative values = Men ahead\")\n",
        "print(project_df['labor_participation_gap'].describe())\n",
        "\n",
        "# 4. Show countries with largest gaps\n",
        "print(\"\\nCOUNTRIES WITH LARGEST EDUCATION GAPS (Women ahead):\")\n",
        "top_edu_gap = project_df.nlargest(5, 'education_gap')[['Country', 'Year', 'education_gap']]\n",
        "print(top_edu_gap)\n",
        "\n",
        "print(\"\\nCOUNTRIES WITH LARGEST LABOR GAPS (Men ahead):\")\n",
        "top_labor_gap = project_df.nsmallest(5, 'labor_participation_gap')[['Country', 'Year', 'labor_participation_gap']]\n",
        "print(top_labor_gap)"
      ],
      "metadata": {
        "colab": {
          "base_uri": "https://localhost:8080/"
        },
        "id": "L2Yp_RrZLpi7",
        "outputId": "989a7d8d-8f3c-4ef2-b5ed-b66413bcdd15"
      },
      "execution_count": 8,
      "outputs": [
        {
          "output_type": "stream",
          "name": "stdout",
          "text": [
            "=== CALCULATING GENDER GAPS ===\n",
            "EDUCATION GAP SUMMARY (Female - Male):\n",
            "Positive values = Women ahead | Negative values = Men ahead\n",
            "count    660.000000\n",
            "mean      10.009066\n",
            "std        5.751238\n",
            "min        0.014337\n",
            "25%        4.927772\n",
            "50%        9.746201\n",
            "75%       15.126432\n",
            "max       19.988275\n",
            "Name: education_gap, dtype: float64\n",
            "\n",
            "LABOR PARTICIPATION GAP SUMMARY (Female - Male):\n",
            "Positive values = Women ahead | Negative values = Men ahead\n",
            "count    660.000000\n",
            "mean     -15.501659\n",
            "std        2.904532\n",
            "min      -20.992784\n",
            "25%      -17.783903\n",
            "50%      -15.778424\n",
            "75%      -13.418898\n",
            "max       -9.202450\n",
            "Name: labor_participation_gap, dtype: float64\n",
            "\n",
            "COUNTRIES WITH LARGEST EDUCATION GAPS (Women ahead):\n",
            "         Country  Year  education_gap\n",
            "120     Colombia  1995      19.988275\n",
            "568    Venezuela  2023      19.984146\n",
            "109        Chile  2014      19.926678\n",
            "489         Peru  2004      19.924490\n",
            "284  El Salvador  2009      19.923153\n",
            "\n",
            "COUNTRIES WITH LARGEST LABOR GAPS (Men ahead):\n",
            "       Country  Year  labor_participation_gap\n",
            "554  Venezuela  2009               -20.992784\n",
            "558  Venezuela  2013               -20.932139\n",
            "477   Paraguay  2022               -20.737981\n",
            "551  Venezuela  2006               -20.596845\n",
            "453   Paraguay  1998               -20.569945\n"
          ]
        }
      ]
    },
    {
      "cell_type": "code",
      "source": [
        "# Create Region column based on country classification\n",
        "def assign_region(country):\n",
        "    south_america = [\"Argentina\", \"Bolivia\", \"Brazil\", \"Chile\", \"Colombia\",\n",
        "                    \"Ecuador\", \"Paraguay\", \"Peru\", \"Uruguay\", \"Venezuela\"]\n",
        "    central_america = [\"Costa Rica\", \"El Salvador\", \"Guatemala\", \"Honduras\",\n",
        "                      \"Nicaragua\", \"Panama\", \"Belize\"]\n",
        "    caribbean = [\"Cuba\", \"Dominican Republic\", \"Haiti\", \"Jamaica\",\n",
        "                \"Puerto Rico\", \"Trinidad and Tobago\"]\n",
        "    mexico = [\"Mexico\"]\n",
        "\n",
        "    if country in south_america:\n",
        "        return \"South America\"\n",
        "    elif country in central_america:\n",
        "        return \"Central America\"\n",
        "    elif country in caribbean:\n",
        "        return \"Caribbean\"\n",
        "    elif country in mexico:\n",
        "        return \"Mexico\"\n",
        "    else:\n",
        "        return \"Other Region\"\n",
        "\n",
        "# Apply the region classification\n",
        "project_df['Region'] = project_df['Country'].apply(assign_region)\n",
        "\n",
        "# Verify the region distribution\n",
        "print(\"=== REGION DISTRIBUTION ===\")\n",
        "region_counts = project_df['Region'].value_counts()\n",
        "print(region_counts)\n",
        "\n",
        "print(f\"\\nTotal countries per region:\")\n",
        "for region in project_df['Region'].unique():\n",
        "    countries_in_region = project_df[project_df['Region'] == region]['Country'].unique()\n",
        "    print(f\"{region}: {len(countries_in_region)} countries - {list(countries_in_region)}\")"
      ],
      "metadata": {
        "colab": {
          "base_uri": "https://localhost:8080/"
        },
        "id": "hd27mbBmMMvl",
        "outputId": "013d9a31-81d3-424b-cc17-d9d3ee2db5ab"
      },
      "execution_count": 9,
      "outputs": [
        {
          "output_type": "stream",
          "name": "stdout",
          "text": [
            "=== REGION DISTRIBUTION ===\n",
            "Region\n",
            "South America      300\n",
            "Central America    180\n",
            "Caribbean          150\n",
            "Mexico              30\n",
            "Name: count, dtype: int64\n",
            "\n",
            "Total countries per region:\n",
            "South America: 10 countries - ['Argentina', 'Bolivia', 'Brazil', 'Chile', 'Colombia', 'Ecuador', 'Paraguay', 'Peru', 'Uruguay', 'Venezuela']\n",
            "Central America: 6 countries - ['Costa Rica', 'El Salvador', 'Guatemala', 'Honduras', 'Nicaragua', 'Panama']\n",
            "Caribbean: 5 countries - ['Cuba', 'Dominican Republic', 'Haiti', 'Jamaica', 'Trinidad and Tobago']\n",
            "Mexico: 1 countries - ['Mexico']\n"
          ]
        }
      ]
    },
    {
      "cell_type": "code",
      "source": [
        "# Research a negative value\n",
        "print(\"=== INVESTIGATING NEGATIVE MALE EDUCATION VALUE ===\")\n",
        "\n",
        "# Find the negative value we saw in the statistics\n",
        "negative_education = project_df[project_df['Male_Tertiary_Education'] < 0]\n",
        "print(\"Records with negative male tertiary education:\")\n",
        "print(negative_education[['Country', 'Year', 'Male_Tertiary_Education', 'Female_Tertiary_Education', 'education_gap']])\n",
        "\n",
        "# Also check if there are any other data quality issues\n",
        "print(\"\\n=== CHECKING FOR OTHER DATA ANOMALIES ===\")\n",
        "\n",
        "# Check for impossible values in percentages (should be 0-100)\n",
        "print(\"Values outside realistic ranges (0-100%):\")\n",
        "for col in ['Female_Tertiary_Education', 'Male_Tertiary_Education',\n",
        "            'Female_Labor_Participation', 'Male_Labor_Participation']:\n",
        "    outliers_high = project_df[project_df[col] > 100]\n",
        "    outliers_low = project_df[project_df[col] < 0]\n",
        "    print(f\"{col}: >100%: {len(outliers_high)}, <0%: {len(outliers_low)}\")\n",
        "\n",
        "    if len(outliers_low) > 0:\n",
        "        print(f\"  Low outliers: {outliers_low[['Country', 'Year', col]].values}\")"
      ],
      "metadata": {
        "colab": {
          "base_uri": "https://localhost:8080/"
        },
        "id": "in3DnWhDMfj8",
        "outputId": "c9834d6d-2d78-48fe-a31b-c80c3ee7ce37"
      },
      "execution_count": 11,
      "outputs": [
        {
          "output_type": "stream",
          "name": "stdout",
          "text": [
            "=== INVESTIGATING NEGATIVE MALE EDUCATION VALUE ===\n",
            "Records with negative male tertiary education:\n",
            "                 Country  Year  Male_Tertiary_Education  \\\n",
            "5              Argentina  2000                -1.468616   \n",
            "14             Argentina  2009                -2.820196   \n",
            "19             Argentina  2014                -1.693648   \n",
            "36               Bolivia  2001                -5.490906   \n",
            "47               Bolivia  2012                -1.178078   \n",
            "86                Brazil  2021                -6.430563   \n",
            "88                Brazil  2023                -8.860751   \n",
            "115                Chile  2020                -2.894469   \n",
            "149             Colombia  2024                -8.524604   \n",
            "151           Costa Rica  1996                -7.272214   \n",
            "183                 Cuba  1998                -2.696849   \n",
            "200                 Cuba  2015                -1.644060   \n",
            "231   Dominican Republic  2016                -2.444940   \n",
            "251              Ecuador  2006                -2.872560   \n",
            "264              Ecuador  2019                -3.294547   \n",
            "269              Ecuador  2024                -4.275186   \n",
            "275          El Salvador  2000                -4.198328   \n",
            "371               Mexico  2006                -3.199314   \n",
            "380               Mexico  2015                -6.105072   \n",
            "392            Nicaragua  1997                -1.507008   \n",
            "393            Nicaragua  1998                -6.868497   \n",
            "395            Nicaragua  2000                -2.736211   \n",
            "402            Nicaragua  2007                -3.728022   \n",
            "420               Panama  1995                -1.129247   \n",
            "422               Panama  1997                -1.880363   \n",
            "427               Panama  2002                -1.441433   \n",
            "442               Panama  2017                -6.706391   \n",
            "445               Panama  2020                -4.712137   \n",
            "463             Paraguay  2008                -0.206854   \n",
            "465             Paraguay  2010                -0.266777   \n",
            "476             Paraguay  2021                -2.139717   \n",
            "512              Uruguay  1997                -4.436898   \n",
            "526              Uruguay  2011                -1.664561   \n",
            "538              Uruguay  2023                -4.783872   \n",
            "603              Jamaica  1998                -4.596651   \n",
            "642  Trinidad and Tobago  2007                -2.584066   \n",
            "\n",
            "     Female_Tertiary_Education  education_gap  \n",
            "5                    15.793453      17.262069  \n",
            "14                   15.673676      18.493872  \n",
            "19                   11.215798      12.909446  \n",
            "36                   14.241886      19.732792  \n",
            "47                   17.353674      18.531753  \n",
            "86                   11.063471      17.494033  \n",
            "88                   10.893697      19.754448  \n",
            "115                  11.833571      14.728040  \n",
            "149                  10.605424      19.130028  \n",
            "151                  12.097561      19.369776  \n",
            "183                  12.101234      14.798082  \n",
            "200                  11.272388      12.916448  \n",
            "231                  16.713743      19.158682  \n",
            "251                  10.607839      13.480398  \n",
            "264                  13.200317      16.494865  \n",
            "269                  10.099607      14.374792  \n",
            "275                  13.348681      17.547009  \n",
            "371                  10.209372      13.408687  \n",
            "380                  11.128226      17.233298  \n",
            "392                  15.270069      16.777077  \n",
            "393                  12.359835      19.228332  \n",
            "395                  16.918580      19.654791  \n",
            "402                  15.340035      19.068058  \n",
            "420                  14.406722      15.535969  \n",
            "422                  12.641334      14.521697  \n",
            "427                  15.308018      16.749450  \n",
            "442                  12.730515      19.436906  \n",
            "445                  10.525661      15.237798  \n",
            "463                  15.310691      15.517545  \n",
            "465                  17.275774      17.542551  \n",
            "476                  12.810695      14.950413  \n",
            "512                  12.613955      17.050853  \n",
            "526                  17.830641      19.495202  \n",
            "538                  12.988114      17.771986  \n",
            "603                  12.598305      17.194956  \n",
            "642                  13.662280      16.246347  \n",
            "\n",
            "=== CHECKING FOR OTHER DATA ANOMALIES ===\n",
            "Values outside realistic ranges (0-100%):\n",
            "Female_Tertiary_Education: >100%: 0, <0%: 0\n",
            "Male_Tertiary_Education: >100%: 0, <0%: 36\n",
            "  Low outliers: [['Argentina' 2000 -1.468615541255385]\n",
            " ['Argentina' 2009 -2.820196303541803]\n",
            " ['Argentina' 2014 -1.693647596570665]\n",
            " ['Bolivia' 2001 -5.490905865763912]\n",
            " ['Bolivia' 2012 -1.178078456777992]\n",
            " ['Brazil' 2021 -6.430562911164634]\n",
            " ['Brazil' 2023 -8.860751058049939]\n",
            " ['Chile' 2020 -2.894468954635661]\n",
            " ['Colombia' 2024 -8.524604204245229]\n",
            " ['Costa Rica' 1996 -7.272214380305865]\n",
            " ['Cuba' 1998 -2.696848656768342]\n",
            " ['Cuba' 2015 -1.644059730442143]\n",
            " ['Dominican Republic' 2016 -2.444939876021635]\n",
            " ['Ecuador' 2006 -2.872559807306512]\n",
            " ['Ecuador' 2019 -3.294547416509106]\n",
            " ['Ecuador' 2024 -4.275185596117092]\n",
            " ['El Salvador' 2000 -4.198328461393197]\n",
            " ['Mexico' 2006 -3.199314494540458]\n",
            " ['Mexico' 2015 -6.105072108714658]\n",
            " ['Nicaragua' 1997 -1.507008368258262]\n",
            " ['Nicaragua' 1998 -6.86849730797204]\n",
            " ['Nicaragua' 2000 -2.736211082179889]\n",
            " ['Nicaragua' 2007 -3.728022387523717]\n",
            " ['Panama' 1995 -1.129247195338039]\n",
            " ['Panama' 1997 -1.880362711440911]\n",
            " ['Panama' 2002 -1.441432715002129]\n",
            " ['Panama' 2017 -6.706390865836241]\n",
            " ['Panama' 2020 -4.712136660467007]\n",
            " ['Paraguay' 2008 -0.2068537099710497]\n",
            " ['Paraguay' 2010 -0.266777098602077]\n",
            " ['Paraguay' 2021 -2.139717461936174]\n",
            " ['Uruguay' 1997 -4.436897734072026]\n",
            " ['Uruguay' 2011 -1.664560882091411]\n",
            " ['Uruguay' 2023 -4.783871899823826]\n",
            " ['Jamaica' 1998 -4.596651207142326]\n",
            " ['Trinidad and Tobago' 2007 -2.584066448912871]]\n",
            "Female_Labor_Participation: >100%: 0, <0%: 0\n",
            "Male_Labor_Participation: >100%: 0, <0%: 0\n"
          ]
        }
      ]
    },
    {
      "cell_type": "code",
      "source": [
        "# --- STEP 5: Manage outliers data ---\n",
        "# Cap negative values at 0%\n",
        "clean_df = project_df.copy()\n",
        "clean_df['Male_Tertiary_Education'] = clean_df['Male_Tertiary_Education'].clip(lower=0)\n",
        "clean_df['education_gap'] = clean_df['Female_Tertiary_Education'] - clean_df['Male_Tertiary_Education']"
      ],
      "metadata": {
        "id": "GCrGkRs9M4xK"
      },
      "execution_count": 13,
      "outputs": []
    },
    {
      "cell_type": "code",
      "source": [
        "# Verify the correction was successful\n",
        "print(\"=== VALIDATION OF DATA CORRECTION ===\")\n",
        "\n",
        "# 1. Check that no negative values remain in education columns\n",
        "print(\"1. CHECKING FOR NEGATIVE VALUES:\")\n",
        "print(f\"Male_Tertiary_Education < 0: {(clean_df['Male_Tertiary_Education'] < 0).sum()} records\")\n",
        "print(f\"Female_Tertiary_Education < 0: {(clean_df['Female_Tertiary_Education'] < 0).sum()} records\")\n",
        "\n",
        "# 2. Verify the range of values is now realistic (0-100%)\n",
        "print(\"\\n2. CHECKING VALUE RANGES:\")\n",
        "print(\"Male_Tertiary_Education range:\", clean_df['Male_Tertiary_Education'].min(), \"-\", clean_df['Male_Tertiary_Education'].max())\n",
        "print(\"Female_Tertiary_Education range:\", clean_df['Female_Tertiary_Education'].min(), \"-\", clean_df['Female_Tertiary_Education'].max())\n",
        "\n",
        "# 3. Check that education gap is still positive (women ahead)\n",
        "print(\"\\n3. VERIFYING EDUCATION GAP:\")\n",
        "print(f\"Education gap range: {clean_df['education_gap'].min():.2f} - {clean_df['education_gap'].max():.2f}\")\n",
        "print(f\"Education gap mean: {clean_df['education_gap'].mean():.2f}\")\n",
        "\n",
        "# 4. Verify we still have all 660 records\n",
        "print(f\"\\n4. DATASET SIZE:\")\n",
        "print(f\"Total records: {len(clean_df)}\")\n",
        "print(f\"Countries: {clean_df['Country'].nunique()}\")\n",
        "print(f\"Years: {clean_df['Year'].min()} - {clean_df['Year'].max()}\")\n",
        "\n",
        "# 5. Show sample of previously problematic records that are now fixed\n",
        "print(\"\\n5. SAMPLE OF CORRECTED RECORDS:\")\n",
        "previously_negative = project_df[project_df['Male_Tertiary_Education'] < 0]\n",
        "corrected_records = clean_df[clean_df['Country'].isin(previously_negative['Country'].unique())].head(3)\n",
        "print(corrected_records[['Country', 'Year', 'Male_Tertiary_Education', 'Female_Tertiary_Education', 'education_gap']])"
      ],
      "metadata": {
        "colab": {
          "base_uri": "https://localhost:8080/"
        },
        "id": "Yssze8jHNalT",
        "outputId": "43fcf52e-5671-48a7-f500-71483d9537dd"
      },
      "execution_count": 14,
      "outputs": [
        {
          "output_type": "stream",
          "name": "stdout",
          "text": [
            "=== VALIDATION OF DATA CORRECTION ===\n",
            "1. CHECKING FOR NEGATIVE VALUES:\n",
            "Male_Tertiary_Education < 0: 0 records\n",
            "Female_Tertiary_Education < 0: 0 records\n",
            "\n",
            "2. CHECKING VALUE RANGES:\n",
            "Male_Tertiary_Education range: 0.0 - 57.40342083152833\n",
            "Female_Tertiary_Education range: 10.09960676095351 - 59.97788516252193\n",
            "\n",
            "3. VERIFYING EDUCATION GAP:\n",
            "Education gap range: 0.01 - 19.99\n",
            "Education gap mean: 9.81\n",
            "\n",
            "4. DATASET SIZE:\n",
            "Total records: 660\n",
            "Countries: 22\n",
            "Years: 1995 - 2024\n",
            "\n",
            "5. SAMPLE OF CORRECTED RECORDS:\n",
            "     Country  Year  Male_Tertiary_Education  Female_Tertiary_Education  \\\n",
            "0  Argentina  1995                16.980456                  20.616956   \n",
            "1  Argentina  1996                19.196692                  28.318092   \n",
            "2  Argentina  1997                44.327592                  50.419867   \n",
            "\n",
            "   education_gap  \n",
            "0       3.636499  \n",
            "1       9.121400  \n",
            "2       6.092275  \n"
          ]
        }
      ]
    },
    {
      "cell_type": "code",
      "source": [
        "# Export the cleaned dataset for Looker Studio\n",
        "output_filename = \"The_Paradox_of_Female_Education_Dashboard.csv\"\n",
        "\n",
        "# Save to CSV\n",
        "clean_df.to_csv(output_filename, index=False)\n",
        "\n",
        "# Verify the export\n",
        "print(\"=== EXPORT VERIFICATION ===\")\n",
        "print(f\"File saved as: {output_filename}\")\n",
        "print(f\"File size: {len(clean_df)} records\")\n",
        "print(f\"Columns exported: {list(clean_df.columns)}\")\n",
        "\n",
        "# Display final dataset info\n",
        "print(\"\\n=== FINAL DATASET SUMMARY ===\")\n",
        "print(f\"• Countries: {clean_df['Country'].nunique()}\")\n",
        "print(f\"• Time period: {clean_df['Year'].min()}-{clean_df['Year'].max()}\")\n",
        "print(f\"• Key metrics ready:\")\n",
        "print(f\"  - Education gap: {clean_df['education_gap'].mean():.1f}% (women ahead)\")\n",
        "print(f\"  - Labor gap: {clean_df['labor_participation_gap'].mean():.1f}% (men ahead)\")\n",
        "print(f\"  - Regions: {clean_df['Region'].nunique()} regions defined\")\n",
        "\n",
        "print(f\"\\n 'The Paradox of Female Education' dataset ready for dashboard!\")"
      ],
      "metadata": {
        "colab": {
          "base_uri": "https://localhost:8080/"
        },
        "id": "KemGMjwWNzrb",
        "outputId": "b982e479-dd75-4457-825b-83cb45fcd291"
      },
      "execution_count": 17,
      "outputs": [
        {
          "output_type": "stream",
          "name": "stdout",
          "text": [
            "=== EXPORT VERIFICATION ===\n",
            "File saved as: The_Paradox_of_Female_Education_Dashboard.csv\n",
            "File size: 660 records\n",
            "Columns exported: ['Country', 'Year', 'GDP_per_capita', 'Female_Labor_Participation', 'Male_Labor_Participation', 'Female_Tertiary_Education', 'Male_Tertiary_Education', 'education_gap', 'labor_participation_gap', 'Region']\n",
            "\n",
            "=== FINAL DATASET SUMMARY ===\n",
            "• Countries: 22\n",
            "• Time period: 1995-2024\n",
            "• Key metrics ready:\n",
            "  - Education gap: 9.8% (women ahead)\n",
            "  - Labor gap: -15.5% (men ahead)\n",
            "  - Regions: 4 regions defined\n",
            "\n",
            " 'The Paradox of Female Education' dataset ready for dashboard!\n"
          ]
        }
      ]
    },
    {
      "cell_type": "code",
      "source": [
        "# Download the CSV file to your computer\n",
        "from google.colab import files\n",
        "files.download('The_Paradox_of_Female_Education_Dashboard.csv')"
      ],
      "metadata": {
        "colab": {
          "base_uri": "https://localhost:8080/",
          "height": 17
        },
        "id": "Q3g4Ws_TOKip",
        "outputId": "8dd240f7-0133-4cf8-c0a1-639396f58803"
      },
      "execution_count": 18,
      "outputs": [
        {
          "output_type": "display_data",
          "data": {
            "text/plain": [
              "<IPython.core.display.Javascript object>"
            ],
            "application/javascript": [
              "\n",
              "    async function download(id, filename, size) {\n",
              "      if (!google.colab.kernel.accessAllowed) {\n",
              "        return;\n",
              "      }\n",
              "      const div = document.createElement('div');\n",
              "      const label = document.createElement('label');\n",
              "      label.textContent = `Downloading \"${filename}\": `;\n",
              "      div.appendChild(label);\n",
              "      const progress = document.createElement('progress');\n",
              "      progress.max = size;\n",
              "      div.appendChild(progress);\n",
              "      document.body.appendChild(div);\n",
              "\n",
              "      const buffers = [];\n",
              "      let downloaded = 0;\n",
              "\n",
              "      const channel = await google.colab.kernel.comms.open(id);\n",
              "      // Send a message to notify the kernel that we're ready.\n",
              "      channel.send({})\n",
              "\n",
              "      for await (const message of channel.messages) {\n",
              "        // Send a message to notify the kernel that we're ready.\n",
              "        channel.send({})\n",
              "        if (message.buffers) {\n",
              "          for (const buffer of message.buffers) {\n",
              "            buffers.push(buffer);\n",
              "            downloaded += buffer.byteLength;\n",
              "            progress.value = downloaded;\n",
              "          }\n",
              "        }\n",
              "      }\n",
              "      const blob = new Blob(buffers, {type: 'application/binary'});\n",
              "      const a = document.createElement('a');\n",
              "      a.href = window.URL.createObjectURL(blob);\n",
              "      a.download = filename;\n",
              "      div.appendChild(a);\n",
              "      a.click();\n",
              "      div.remove();\n",
              "    }\n",
              "  "
            ]
          },
          "metadata": {}
        },
        {
          "output_type": "display_data",
          "data": {
            "text/plain": [
              "<IPython.core.display.Javascript object>"
            ],
            "application/javascript": [
              "download(\"download_b04af09a-fcf9-4ccb-b444-e4638f3ece1b\", \"The_Paradox_of_Female_Education_Dashboard.csv\", 101636)"
            ]
          },
          "metadata": {}
        }
      ]
    }
  ]
}
